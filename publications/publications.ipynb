{
  "cells": [
    {
      "cell_type": "raw",
      "metadata": {},
      "source": [
        "---\n",
        "title: Publications\n",
        "echo: false\n",
        "section-divs: false\n",
        "keep-md: true\n",
        "---"
      ],
      "id": "07e0ff10"
    },
    {
      "cell_type": "code",
      "metadata": {},
      "source": [
        "import yaml\n",
        "from IPython.display import display, Markdown, HTML\n",
        "def readable_list(_s):\n",
        "  if len(_s) < 3:\n",
        "    return ' and '.join(map(str, _s))\n",
        "  *a, b = _s\n",
        "  return f\"{', '.join(map(str, a))}, and {b}\"\n",
        "def button(url, str, icon):\n",
        "  icon_base = icon[:2]\n",
        "  return f\"\"\"<a class=\"btn btn-outline-dark btn-sm\", href=\"{url}\" target=\"_blank\" rel=\"noopener noreferrer\">\n",
        "        <i class=\"{icon_base} {icon}\" role='img' aria-label='{str}'></i>\n",
        "        {str}\n",
        "    </a>\"\"\"\n",
        "yaml_data = yaml.safe_load(open(\"papers.yaml\"))\n",
        "pub_strs = {\"pubs\": {}, \"wps\": {}}\n",
        "for _, data in yaml_data.items():\n",
        "    title_str = data[\"title\"]\n",
        "    authors = data.get(\"authors\", [\"me\"])\n",
        "    authors = [aut if aut != \"me\" else \"<strong>Richard Ramsey</strong>\" for aut in authors]\n",
        "    author_str = readable_list(authors)\n",
        "    year_str = data[\"year\"]\n",
        "    in_press = data[\"in_press\"]\n",
        "    buttons = []\n",
        "    preprint = data.get(\"preprint\")\n",
        "    if preprint is not None:\n",
        "        buttons.append(button(preprint, \"Preprint\", \"bi-file-earmark-pdf\"))\n",
        "    pdf = data.get(\"pdf\")\n",
        "    if pdf is not None:\n",
        "        buttons.append(button(pdf, \"pdf\", \"bi-file-earmark-pdf\"))\n",
        "    pub_url = data.get(\"published_url\")\n",
        "    if pub_url is not None:\n",
        "        buttons.append(button(pub_url, \"doi\", \"bi-share\"))\n",
        "    osf = data.get(\"osf\")\n",
        "    if osf is not None:\n",
        "        buttons.append(button(osf, \"osf\", \"ai-osf\"))\n",
        "    github = data.get(\"github\")\n",
        "    if github is not None:\n",
        "        buttons.append(button(github, \"Github\", \"bi-github\"))\n",
        "    venue = data.get(\"venue\")\n",
        "    NeuroVault = data.get(\"neurovault\")\n",
        "    if NeuroVault is not None:\n",
        "        buttons.append(button(NeuroVault, \"NeuroVault\", \"bi-safe\"))\n",
        "    working_paper = pub_url is None and in_press is None\n",
        "    \n",
        "    if in_press is not None:\n",
        "      pub_str = f'{author_str}. ({\"in press\"}) \"{title_str}.\"'\n",
        "    else:\n",
        "      pub_str = f'{author_str}. ({year_str}) \"{title_str}.\"'\n",
        "    if venue is not None:\n",
        "        pub_str += f\" <em>{venue}</em>\"\n",
        "    if working_paper:\n",
        "        if year_str not in pub_strs[\"wps\"]:\n",
        "            pub_strs[\"wps\"][year_str] = []\n",
        "        pub_strs[\"wps\"][year_str].append(\n",
        "            \"<li class='list-group-item'>\" + pub_str + \"<br>\" + \" \".join(buttons) + \"</li>\"\n",
        "        )\n",
        "    else:\n",
        "        if year_str not in pub_strs[\"pubs\"]:\n",
        "            pub_strs[\"pubs\"][year_str] = []\n",
        "        pub_strs[\"pubs\"][year_str].append(\n",
        "            \"<li class='list-group-item'>\" + pub_str + \"<br>\" + \" \".join(buttons) + \"</li>\"\n",
        "        )"
      ],
      "id": "e4d28951",
      "execution_count": null,
      "outputs": []
    },
    {
      "cell_type": "markdown",
      "metadata": {},
      "source": [
        "## Preprints\n"
      ],
      "id": "39e2ed3d"
    },
    {
      "cell_type": "code",
      "metadata": {},
      "source": [
        "#| label: not-published-year\n",
        "#| output: asis\n",
        "for year in sorted(pub_strs[\"wps\"].keys(), reverse=True):\n",
        "    display(Markdown(f\"### {year}\" + \"{#\" + f\"not-published-{year}\" + \"}\"))\n",
        "    display(HTML(\n",
        "        \"<ul class='list-group list-group-flush'>\" + '\\n'.join(pub_strs[\"wps\"][year]) + \"</ul>\"\n",
        "    ))"
      ],
      "id": "not-published-year",
      "execution_count": null,
      "outputs": []
    },
    {
      "cell_type": "markdown",
      "metadata": {},
      "source": [
        "------------------------------------------------------------------------\n",
        "\n",
        "## Published\n"
      ],
      "id": "d0dd4d67"
    },
    {
      "cell_type": "code",
      "metadata": {},
      "source": [
        "#| label: published-year\n",
        "#| output: asis\n",
        "for year in sorted(pub_strs[\"pubs\"].keys(), reverse=True):\n",
        "    display(Markdown(f\"### {year}\" + \"{#\" + f\"published-{year}\" + \"}\"))\n",
        "    display(HTML(\n",
        "        \"<ul class='list-group list-group-flush'>\" + '\\n'.join(pub_strs[\"pubs\"][year]) + \"</ul>\"\n",
        "    ))"
      ],
      "id": "published-year",
      "execution_count": null,
      "outputs": []
    }
  ],
  "metadata": {
    "kernelspec": {
      "name": "python3",
      "language": "python",
      "display_name": "Python 3 (ipykernel)"
    }
  },
  "nbformat": 4,
  "nbformat_minor": 5
}